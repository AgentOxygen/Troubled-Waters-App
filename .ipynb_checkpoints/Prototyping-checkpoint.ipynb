{
 "cells": [
  {
   "cell_type": "code",
   "execution_count": 71,
   "id": "ac2de0a0-7b67-4815-a0bf-23da206e140d",
   "metadata": {},
   "outputs": [],
   "source": [
    "from os import listdir\n",
    "import xarray\n",
    "import rasterio\n",
    "import geopandas as gp\n",
    "import numpy as np\n",
    "import warnings\n",
    "warnings.simplefilter(action='ignore', category=FutureWarning)\n",
    "import matplotlib.cm as cm\n",
    "import matplotlib.pyplot as plt"
   ]
  },
  {
   "cell_type": "code",
   "execution_count": 58,
   "id": "2167afdd-3cf8-43e5-8cdd-740d80996cad",
   "metadata": {},
   "outputs": [],
   "source": [
    "DATA_OUTPUT_DIR = \"../troubled_waters_data/output_netcdf/\"\n",
    "metrics = ['frac_extreme', 'max_threeday_precip', 'nov_mar_percent',\n",
    "            'rainfall_ratio', 'num_ros_events', 'norm_rain_on_snow',\n",
    "            'SWE_total', 'et']\n",
    "\n",
    "def preprocess_metric(metric_ds):\n",
    "    # Interpolate to a higher resolution\n",
    "    new_lat = np.linspace(metric_ds.lat[0], metric_ds.lat[-1], metric_ds.lat.size*8)\n",
    "    new_lon = np.linspace(metric_ds.lon[0], metric_ds.lon[-1], metric_ds.lon.size*8)\n",
    "    metric_ds = metric_ds.interp(lat=new_lat, lon=new_lon)\n",
    "    # Adjust coordinates to match the shapefile coordinates\n",
    "    metric_ds = metric_ds.assign_coords(lon=(((metric_ds.lon + 180) % 360) - 180)).sortby('lon')\n",
    "    # Set spatial dimensions for data\n",
    "    metric_ds.rio.set_spatial_dims(x_dim='lon', y_dim='lat', inplace=True)\n",
    "    # Specify CRS projection to match shapefile data\n",
    "    metric_ds.rio.write_crs(\"epsg:4326\", inplace=True)\n",
    "    return metric_ds\n",
    "\n",
    "\n",
    "for rcp in [\"RCP85\", \"RCP45\"]:\n",
    "    for met_index, metric in enumerate(metrics):\n",
    "        metric_ds = xarray.open_dataset(f\"{DATA_OUTPUT_DIR}{metric}_{rcp}.nc\")\n",
    "        model_mean = metric_ds.to_array(dim='tmp').mean('tmp')\n",
    "        new_lat = np.linspace(model_mean.lat[0], model_mean.lat[-1], model_mean.lat.size*8)\n",
    "        new_lon = np.linspace(model_mean.lon[0], model_mean.lon[-1], model_mean.lon.size*8)\n",
    "        model_mean = model_mean.interp(lat=new_lat, lon=new_lon)\n",
    "        break\n",
    "    break\n",
    "        "
   ]
  },
  {
   "cell_type": "code",
   "execution_count": 101,
   "id": "540824f1-6bb9-4f97-ac63-0cb488fc7396",
   "metadata": {},
   "outputs": [
    {
     "ename": "OSError",
     "evalue": "cannot write mode F as PNG",
     "output_type": "error",
     "traceback": [
      "\u001b[1;31m---------------------------------------------------------------------------\u001b[0m",
      "\u001b[1;31mKeyError\u001b[0m                                  Traceback (most recent call last)",
      "File \u001b[1;32m~\\anaconda3\\envs\\ut-ucs\\lib\\site-packages\\PIL\\PngImagePlugin.py:1255\u001b[0m, in \u001b[0;36m_save\u001b[1;34m(im, fp, filename, chunk, save_all)\u001b[0m\n\u001b[0;32m   1254\u001b[0m \u001b[38;5;28;01mtry\u001b[39;00m:\n\u001b[1;32m-> 1255\u001b[0m     rawmode, mode \u001b[38;5;241m=\u001b[39m \u001b[43m_OUTMODES\u001b[49m\u001b[43m[\u001b[49m\u001b[43mmode\u001b[49m\u001b[43m]\u001b[49m\n\u001b[0;32m   1256\u001b[0m \u001b[38;5;28;01mexcept\u001b[39;00m \u001b[38;5;167;01mKeyError\u001b[39;00m \u001b[38;5;28;01mas\u001b[39;00m e:\n",
      "\u001b[1;31mKeyError\u001b[0m: 'F'",
      "\nThe above exception was the direct cause of the following exception:\n",
      "\u001b[1;31mOSError\u001b[0m                                   Traceback (most recent call last)",
      "Input \u001b[1;32mIn [101]\u001b[0m, in \u001b[0;36m<cell line: 3>\u001b[1;34m()\u001b[0m\n\u001b[0;32m      1\u001b[0m \u001b[38;5;28;01mfrom\u001b[39;00m \u001b[38;5;21;01mPIL\u001b[39;00m \u001b[38;5;28;01mimport\u001b[39;00m Image\n\u001b[0;32m      2\u001b[0m im \u001b[38;5;241m=\u001b[39m Image\u001b[38;5;241m.\u001b[39mfromarray(img)\n\u001b[1;32m----> 3\u001b[0m \u001b[43mim\u001b[49m\u001b[38;5;241;43m.\u001b[39;49m\u001b[43msave\u001b[49m\u001b[43m(\u001b[49m\u001b[38;5;124;43m\"\u001b[39;49m\u001b[38;5;124;43myour_file.png\u001b[39;49m\u001b[38;5;124;43m\"\u001b[39;49m\u001b[43m)\u001b[49m\n",
      "File \u001b[1;32m~\\anaconda3\\envs\\ut-ucs\\lib\\site-packages\\PIL\\Image.py:2320\u001b[0m, in \u001b[0;36mImage.save\u001b[1;34m(self, fp, format, **params)\u001b[0m\n\u001b[0;32m   2317\u001b[0m         fp \u001b[38;5;241m=\u001b[39m builtins\u001b[38;5;241m.\u001b[39mopen(filename, \u001b[38;5;124m\"\u001b[39m\u001b[38;5;124mw+b\u001b[39m\u001b[38;5;124m\"\u001b[39m)\n\u001b[0;32m   2319\u001b[0m \u001b[38;5;28;01mtry\u001b[39;00m:\n\u001b[1;32m-> 2320\u001b[0m     \u001b[43msave_handler\u001b[49m\u001b[43m(\u001b[49m\u001b[38;5;28;43mself\u001b[39;49m\u001b[43m,\u001b[49m\u001b[43m \u001b[49m\u001b[43mfp\u001b[49m\u001b[43m,\u001b[49m\u001b[43m \u001b[49m\u001b[43mfilename\u001b[49m\u001b[43m)\u001b[49m\n\u001b[0;32m   2321\u001b[0m \u001b[38;5;28;01mexcept\u001b[39;00m \u001b[38;5;167;01mException\u001b[39;00m:\n\u001b[0;32m   2322\u001b[0m     \u001b[38;5;28;01mif\u001b[39;00m open_fp:\n",
      "File \u001b[1;32m~\\anaconda3\\envs\\ut-ucs\\lib\\site-packages\\PIL\\PngImagePlugin.py:1257\u001b[0m, in \u001b[0;36m_save\u001b[1;34m(im, fp, filename, chunk, save_all)\u001b[0m\n\u001b[0;32m   1255\u001b[0m     rawmode, mode \u001b[38;5;241m=\u001b[39m _OUTMODES[mode]\n\u001b[0;32m   1256\u001b[0m \u001b[38;5;28;01mexcept\u001b[39;00m \u001b[38;5;167;01mKeyError\u001b[39;00m \u001b[38;5;28;01mas\u001b[39;00m e:\n\u001b[1;32m-> 1257\u001b[0m     \u001b[38;5;28;01mraise\u001b[39;00m \u001b[38;5;167;01mOSError\u001b[39;00m(\u001b[38;5;124mf\u001b[39m\u001b[38;5;124m\"\u001b[39m\u001b[38;5;124mcannot write mode \u001b[39m\u001b[38;5;132;01m{\u001b[39;00mmode\u001b[38;5;132;01m}\u001b[39;00m\u001b[38;5;124m as PNG\u001b[39m\u001b[38;5;124m\"\u001b[39m) \u001b[38;5;28;01mfrom\u001b[39;00m \u001b[38;5;21;01me\u001b[39;00m\n\u001b[0;32m   1259\u001b[0m \u001b[38;5;66;03m#\u001b[39;00m\n\u001b[0;32m   1260\u001b[0m \u001b[38;5;66;03m# write minimal PNG file\u001b[39;00m\n\u001b[0;32m   1262\u001b[0m fp\u001b[38;5;241m.\u001b[39mwrite(_MAGIC)\n",
      "\u001b[1;31mOSError\u001b[0m: cannot write mode F as PNG"
     ]
    }
   ],
   "source": [
    "from PIL import Image\n",
    "im = Image.fromarray(img)\n",
    "im.save(\"your_file.png\")"
   ]
  },
  {
   "cell_type": "code",
   "execution_count": 100,
   "id": "58d361f8-9cb2-4131-80be-140027e3f0e3",
   "metadata": {},
   "outputs": [
    {
     "ename": "ValueError",
     "evalue": "setting an array element with a sequence.",
     "output_type": "error",
     "traceback": [
      "\u001b[1;31m---------------------------------------------------------------------------\u001b[0m",
      "\u001b[1;31mTypeError\u001b[0m                                 Traceback (most recent call last)",
      "\u001b[1;31mTypeError\u001b[0m: only size-1 arrays can be converted to Python scalars",
      "\nThe above exception was the direct cause of the following exception:\n",
      "\u001b[1;31mValueError\u001b[0m                                Traceback (most recent call last)",
      "Input \u001b[1;32mIn [100]\u001b[0m, in \u001b[0;36m<cell line: 7>\u001b[1;34m()\u001b[0m\n\u001b[0;32m      7\u001b[0m \u001b[38;5;28;01mfor\u001b[39;00m i \u001b[38;5;129;01min\u001b[39;00m \u001b[38;5;28mrange\u001b[39m(vals\u001b[38;5;241m.\u001b[39mshape[\u001b[38;5;241m0\u001b[39m]):\n\u001b[0;32m      8\u001b[0m     \u001b[38;5;28;01mfor\u001b[39;00m j \u001b[38;5;129;01min\u001b[39;00m \u001b[38;5;28mrange\u001b[39m(vals\u001b[38;5;241m.\u001b[39mshape[\u001b[38;5;241m1\u001b[39m]):\n\u001b[1;32m----> 9\u001b[0m         img[i, j] \u001b[38;5;241m=\u001b[39m np\u001b[38;5;241m.\u001b[39marray(cm\u001b[38;5;241m.\u001b[39mPuOr(vals[i, j]))\n\u001b[0;32m     11\u001b[0m plt\u001b[38;5;241m.\u001b[39mimshow(img)\n",
      "\u001b[1;31mValueError\u001b[0m: setting an array element with a sequence."
     ]
    }
   ],
   "source": [
    "vals = model_mean.values\n",
    "img = np.zeros((vals.shape[0], vals.shape[1]))\n",
    "img = np.zeros((vals.shape[0], vals.shape[1]))\n",
    "img = np.zeros((vals.shape[0], vals.shape[1]))\n",
    "img = np.zeros((vals.shape[0], vals.shape[1]))\n",
    "\n",
    "for i in range(vals.shape[0]):\n",
    "    for j in range(vals.shape[1]):\n",
    "        img[i, j] = np.array(cm.PuOr(vals[i, j]))\n",
    "\n",
    "plt.imshow(img)"
   ]
  },
  {
   "cell_type": "code",
   "execution_count": 99,
   "id": "807d4b07-9900-4335-a2b2-6512d42fb3ea",
   "metadata": {},
   "outputs": [
    {
     "data": {
      "text/plain": [
       "array([0.51403306, 0.2402922 , 0.0307574 , 1.        ])"
      ]
     },
     "execution_count": 99,
     "metadata": {},
     "output_type": "execute_result"
    }
   ],
   "source": [
    "np.array(cm.PuOr(2))"
   ]
  }
 ],
 "metadata": {
  "kernelspec": {
   "display_name": "Python 3 (ipykernel)",
   "language": "python",
   "name": "python3"
  },
  "language_info": {
   "codemirror_mode": {
    "name": "ipython",
    "version": 3
   },
   "file_extension": ".py",
   "mimetype": "text/x-python",
   "name": "python",
   "nbconvert_exporter": "python",
   "pygments_lexer": "ipython3",
   "version": "3.8.13"
  }
 },
 "nbformat": 4,
 "nbformat_minor": 5
}
