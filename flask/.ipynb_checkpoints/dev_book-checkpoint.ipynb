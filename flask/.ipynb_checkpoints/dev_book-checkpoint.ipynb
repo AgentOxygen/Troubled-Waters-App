{
 "cells": [
  {
   "cell_type": "code",
   "execution_count": 3,
   "id": "2ec87576-e4dd-491c-93ee-5f4fa4fce924",
   "metadata": {},
   "outputs": [
    {
     "name": "stderr",
     "output_type": "stream",
     "text": [
      "C:\\Users\\Cameron\\anaconda3\\envs\\ut-ucs\\lib\\site-packages\\scipy\\__init__.py:146: UserWarning: A NumPy version >=1.16.5 and <1.23.0 is required for this version of SciPy (detected version 1.23.1\n",
      "  warnings.warn(f\"A NumPy version >={np_minversion} and <{np_maxversion}\"\n"
     ]
    }
   ],
   "source": [
    "import xarray\n",
    "from os import listdir"
   ]
  },
  {
   "cell_type": "code",
   "execution_count": 4,
   "id": "fd18c71b-04a9-4007-9d84-f549d89e32f7",
   "metadata": {},
   "outputs": [],
   "source": [
    "NETCDF_DIR_PATH = \"../netcdf/\"\n",
    "\n",
    "dry_total_RCP45_ext = xarray.open_dataset(f'{NETCDF_DIR_PATH}dry_total_RCP45.extended.nc')\n",
    "dry_total_RCP45 = xarray.open_dataset(f'{NETCDF_DIR_PATH}dry_total_RCP45.nc')\n",
    "dry_total_RCP85_ext = xarray.open_dataset(f'{NETCDF_DIR_PATH}dry_total_RCP85.extended.nc')\n",
    "dry_total_RCP85 = xarray.open_dataset(f'{NETCDF_DIR_PATH}dry_total_RCP85.nc')\n",
    "\n",
    "dry_to_wet_whip_total_RCP45_ext = xarray.open_dataset(f'{NETCDF_DIR_PATH}dry_to_wet_whip_total_RCP45.extended.nc')\n",
    "dry_to_wet_whip_total_RCP45 = xarray.open_dataset(f'{NETCDF_DIR_PATH}dry_to_wet_whip_total_RCP45.nc')\n",
    "dry_to_wet_whip_total_RCP85_ext = xarray.open_dataset(f'{NETCDF_DIR_PATH}dry_to_wet_whip_total_RCP85.extended.nc')\n",
    "dry_to_wet_whip_total_RCP85 = xarray.open_dataset(f'{NETCDF_DIR_PATH}dry_to_wet_whip_total_RCP85.nc')\n",
    "\n",
    "et_RCP45 = xarray.open_dataset(f'{NETCDF_DIR_PATH}et_RCP45.nc')\n",
    "et_RCP45_now = xarray.open_dataset(f'{NETCDF_DIR_PATH}et_RCP45_now.nc')\n",
    "et_RCP85 = xarray.open_dataset(f'{NETCDF_DIR_PATH}et_RCP85.nc')\n",
    "et_RCP85_now = xarray.open_dataset(f'{NETCDF_DIR_PATH}et_RCP85_now.nc')\n",
    "\n",
    "frac_extreme_RCP45 = xarray.open_dataset(f'{NETCDF_DIR_PATH}frac_extreme_RCP45.nc')\n",
    "frac_extreme_RCP45_now = xarray.open_dataset(f'{NETCDF_DIR_PATH}frac_extreme_RCP45_now.nc')\n",
    "frac_extreme_RCP85 = xarray.open_dataset(f'{NETCDF_DIR_PATH}frac_extreme_RCP85.nc')\n",
    "frac_extreme_RCP85_now = xarray.open_dataset(f'{NETCDF_DIR_PATH}frac_extreme_RCP85_now.nc')\n",
    "\n",
    "max_threeday_precip_RCP45 = xarray.open_dataset(f'{NETCDF_DIR_PATH}max_threeday_precip_RCP45.nc')\n",
    "max_threeday_precip_RCP45_now = xarray.open_dataset(f'{NETCDF_DIR_PATH}max_threeday_precip_RCP45_now.nc')\n",
    "max_threeday_precip_RCP85 = xarray.open_dataset(f'{NETCDF_DIR_PATH}max_threeday_precip_RCP85.nc')\n",
    "max_threeday_precip_RCP85_now = xarray.open_dataset(f'{NETCDF_DIR_PATH}max_threeday_precip_RCP85_now.nc')\n",
    "\n",
    "MIROC5_IntraAnnual_Output_Late = xarray.open_dataset(f'{NETCDF_DIR_PATH}MIROC5_IntraAnnual_Output_Late.nc')\n",
    "MIROC5_IntraAnnual_Output_Now = xarray.open_dataset(f'{NETCDF_DIR_PATH}MIROC5_IntraAnnual_Output_Now.nc')\n",
    "\n",
    "nov_mar_percent_RCP45 = xarray.open_dataset(f'{NETCDF_DIR_PATH}nov_mar_percent_RCP45.nc')\n",
    "nov_mar_percent_RCP45_now = xarray.open_dataset(f'{NETCDF_DIR_PATH}nov_mar_percent_RCP45_now.nc')\n",
    "nov_mar_percent_RCP85 = xarray.open_dataset(f'{NETCDF_DIR_PATH}nov_mar_percent_RCP85.nc')\n",
    "nov_mar_percent_RCP85_now = xarray.open_dataset(f'{NETCDF_DIR_PATH}nov_mar_percent_RCP85_now.nc')\n",
    "\n",
    "num_ros_events_RCP45 = xarray.open_dataset(f'{NETCDF_DIR_PATH}num_ros_events_RCP45.nc')\n",
    "num_ros_events_RCP45_now = xarray.open_dataset(f'{NETCDF_DIR_PATH}num_ros_events_RCP45_now.nc')\n",
    "num_ros_events_RCP85 = xarray.open_dataset(f'{NETCDF_DIR_PATH}num_ros_events_RCP85.nc')\n",
    "num_ros_events_RCP85_now = xarray.open_dataset(f'{NETCDF_DIR_PATH}num_ros_events_RCP85_now.nc')\n",
    "\n",
    "pr_anntot_RCP45 = xarray.open_dataset(f'{NETCDF_DIR_PATH}pr_anntot_RCP45.nc')\n",
    "pr_anntot_RCP45_now = xarray.open_dataset(f'{NETCDF_DIR_PATH}pr_anntot_RCP45_now.nc')\n",
    "pr_anntot_RCP85 = xarray.open_dataset(f'{NETCDF_DIR_PATH}pr_anntot_RCP85.nc')\n",
    "pr_anntot_RCP85_now = xarray.open_dataset(f'{NETCDF_DIR_PATH}pr_anntot_RCP85_now.nc')\n",
    "\n",
    "pr_monthly_july_RCP45 = xarray.open_dataset(f'{NETCDF_DIR_PATH}pr_monthly_july_RCP45.nc')\n",
    "pr_monthly_july_RCP45_now = xarray.open_dataset(f'{NETCDF_DIR_PATH}pr_monthly_july_RCP45_now.nc')\n",
    "pr_monthly_july_RCP85 = xarray.open_dataset(f'{NETCDF_DIR_PATH}pr_monthly_july_RCP85.nc')\n",
    "pr_monthly_july_RCP85_now = xarray.open_dataset(f'{NETCDF_DIR_PATH}pr_monthly_july_RCP85_now.nc')\n",
    "\n",
    "rainfall_ratio_RCP45 = xarray.open_dataset(f'{NETCDF_DIR_PATH}rainfall_ratio_RCP45.nc')\n",
    "rainfall_ratio_RCP45_now = xarray.open_dataset(f'{NETCDF_DIR_PATH}rainfall_ratio_RCP45_now.nc')\n",
    "rainfall_ratio_RCP85 = xarray.open_dataset(f'{NETCDF_DIR_PATH}rainfall_ratio_RCP85.nc')\n",
    "rainfall_ratio_RCP85_now = xarray.open_dataset(f'{NETCDF_DIR_PATH}rainfall_ratio_RCP85_now.nc')\n",
    "\n",
    "SWE_total_RCP45 = xarray.open_dataset(f'{NETCDF_DIR_PATH}SWE_total_RCP45.nc')\n",
    "SWE_total_RCP45_now = xarray.open_dataset(f'{NETCDF_DIR_PATH}SWE_total_RCP45_now.nc')\n",
    "SWE_total_RCP85 = xarray.open_dataset(f'{NETCDF_DIR_PATH}SWE_total_RCP85.nc')\n",
    "SWE_total_RCP85_now = xarray.open_dataset(f'{NETCDF_DIR_PATH}SWE_total_RCP85_now.nc')\n",
    "\n",
    "wet_total_RCP45_ext = xarray.open_dataset(f'{NETCDF_DIR_PATH}wet_total_RCP45.extended.nc')\n",
    "wet_total_RCP45 = xarray.open_dataset(f'{NETCDF_DIR_PATH}wet_total_RCP45.nc')\n",
    "wet_total_RCP85_ext = xarray.open_dataset(f'{NETCDF_DIR_PATH}wet_total_RCP85.extended.nc')\n",
    "wet_total_RCP85 = xarray.open_dataset(f'{NETCDF_DIR_PATH}wet_total_RCP85.nc')\n",
    "\n",
    "wet_to_dry_whip_total_RCP45_ext = xarray.open_dataset(f'{NETCDF_DIR_PATH}wet_to_dry_whip_total_RCP45.extended.nc')\n",
    "wet_to_dry_whip_total_RCP45 = xarray.open_dataset(f'{NETCDF_DIR_PATH}wet_to_dry_whip_total_RCP45.nc')\n",
    "wet_to_dry_whip_total_RCP85_ext = xarray.open_dataset(f'{NETCDF_DIR_PATH}wet_to_dry_whip_total_RCP85.extended.nc')\n",
    "wet_to_dry_whip_total_RCP85 = xarray.open_dataset(f'{NETCDF_DIR_PATH}wet_to_dry_whip_total_RCP85.nc')"
   ]
  },
  {
   "cell_type": "code",
   "execution_count": 23,
   "id": "331d70af-1bb9-41cf-bd12-ca8148b11a7c",
   "metadata": {},
   "outputs": [],
   "source": [
    "frac_extreme_RCP85_out = frac_extreme_RCP85.to_array(dim='models').mean('models') / frac_extreme_RCP85_now.to_array(dim='models').mean('models')\n",
    "max_threeday_precip_RCP85_out = max_threeday_precip_RCP85.to_array(dim='models').mean('models') / max_threeday_precip_RCP85_now.to_array(dim='models').mean('models')\n",
    "nov_mar_percent_RCP85_out = nov_mar_percent_RCP85.to_array(dim='models').mean('models') / nov_mar_percent_RCP85_now.to_array(dim='models').mean('models')\n",
    "rainfall_ratio_RCP85_out = rainfall_ratio_RCP85.to_array(dim='models').mean('models') / rainfall_ratio_RCP85_now.to_array(dim='models').mean('models')\n",
    "num_ros_events_RCP85_out = num_ros_events_RCP85.to_array(dim='models').mean('models') / num_ros_events_RCP85_now.to_array(dim='models').mean('models')"
   ]
  },
  {
   "cell_type": "code",
   "execution_count": 57,
   "id": "f112e225-570a-4ba6-bfa7-49206095520f",
   "metadata": {},
   "outputs": [
    {
     "name": "stdout",
     "output_type": "stream",
     "text": [
      "Finished frac_extreme_RCP85\n"
     ]
    }
   ],
   "source": [
    "import json\n",
    "\n",
    "def exportJSON(ds, name):\n",
    "    lat_delta = abs(ds.lat.values[0] - ds.lat.values[1]) / 2\n",
    "    lon_delta = abs(ds.lon.values[0] - ds.lon.values[1]) / 2\n",
    "    features = []\n",
    "    for lat in ds.lat.values:\n",
    "        for lon in ds.lon.values:\n",
    "            value = float(ds.sel(lat=lat).sel(lon=lon).values)\n",
    "            cell_geojson = {\n",
    "                \"type\":\"Feature\",\n",
    "                \"geometry\": {\n",
    "                    \"type\":\"Polygon\",\n",
    "                    \"coordinates\":[[[lon-lon_delta,lat+lat_delta],\n",
    "                                    [lon+lon_delta,lat+lat_delta],\n",
    "                                    [lon+lon_delta,lat-lat_delta],\n",
    "                                    [lon-lon_delta,lat-lat_delta],\n",
    "                                    [lon-lon_delta,lat+lat_delta]]]\n",
    "                },\n",
    "                \"properties\":{\"value\":str(value)}\n",
    "            }\n",
    "            features.append(cell_geojson)\n",
    "    geojson_output = {\"type\":\"FeatureCollection\", \"features\": features}\n",
    "    json_object = json.dumps(geojson_output, indent=4)\n",
    "\n",
    "    with open(f\"../development_html/geojson/{name}.geojson\", \"w\") as outfile:\n",
    "        outfile.write(json_object)\n",
    "    print(f\"Finished {name}\")\n",
    "\n",
    "exportJSON(frac_extreme_RCP85_out.assign_coords(lon=(((ds.lon + 180) % 360) - 180)).sortby('lon'), \"frac_extreme_RCP85\")"
   ]
  },
  {
   "cell_type": "code",
   "execution_count": 55,
   "id": "1d91c097-ee39-45fd-bc26-8d40cfd0eb80",
   "metadata": {},
   "outputs": [
    {
     "data": {
      "text/plain": [
       "{'type': 'Feature',\n",
       " 'geometry': {'type': 'Polygon',\n",
       "  'coordinates': [[[-114.875, 35.0625],\n",
       "    [-114.8125, 35.0625],\n",
       "    [-114.8125, 35.0],\n",
       "    [-114.875, 35.0],\n",
       "    [-114.875, 35.0625]]]},\n",
       " 'properties': {'value': 0.04986509457581587}}"
      ]
     },
     "execution_count": 55,
     "metadata": {},
     "output_type": "execute_result"
    }
   ],
   "source": [
    "features[10000]"
   ]
  },
  {
   "cell_type": "code",
   "execution_count": 48,
   "id": "9f0ecc22-e06d-4789-940c-d020e02f1395",
   "metadata": {},
   "outputs": [
    {
     "data": {
      "text/plain": [
       "nan"
      ]
     },
     "execution_count": 48,
     "metadata": {},
     "output_type": "execute_result"
    }
   ],
   "source": [
    "float(ds.sel(lat=ds.lat.values[0]).sel(lon=ds.lon.values[0]).values)"
   ]
  },
  {
   "cell_type": "code",
   "execution_count": null,
   "id": "bb7a311b-762d-4327-8adf-94c8148daaff",
   "metadata": {},
   "outputs": [],
   "source": [
    "{\n",
    "  \"type\":\"FeatureCollection\",\n",
    "  \"features\":[\n",
    "    {\n",
    "      \"type\":\"Feature\",\n",
    "      \"geometry\": {\n",
    "        \"type\":\"Polygon\",\n",
    "        \"coordinates\":[[[354,844],[425,844],[425,933],[354,933],[354,844]]]\n",
    "      },\n",
    "      \"properties\":{\"name\":\"area1\"}\n",
    "    }\n",
    "  ]\n",
    "}"
   ]
  }
 ],
 "metadata": {
  "kernelspec": {
   "display_name": "Python 3 (ipykernel)",
   "language": "python",
   "name": "python3"
  },
  "language_info": {
   "codemirror_mode": {
    "name": "ipython",
    "version": 3
   },
   "file_extension": ".py",
   "mimetype": "text/x-python",
   "name": "python",
   "nbconvert_exporter": "python",
   "pygments_lexer": "ipython3",
   "version": "3.8.13"
  }
 },
 "nbformat": 4,
 "nbformat_minor": 5
}
