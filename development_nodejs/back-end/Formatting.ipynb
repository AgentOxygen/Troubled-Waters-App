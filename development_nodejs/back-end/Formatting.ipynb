{
 "cells": [
  {
   "cell_type": "code",
   "execution_count": 1,
   "id": "a22a64da-9df3-43e4-ac0c-6db5e916c997",
   "metadata": {},
   "outputs": [
    {
     "name": "stderr",
     "output_type": "stream",
     "text": [
      "C:\\Users\\Cameron\\anaconda3\\envs\\ut-ucs\\lib\\site-packages\\scipy\\__init__.py:146: UserWarning: A NumPy version >=1.16.5 and <1.23.0 is required for this version of SciPy (detected version 1.23.1\n",
      "  warnings.warn(f\"A NumPy version >={np_minversion} and <{np_maxversion}\"\n"
     ]
    }
   ],
   "source": [
    "import xarray\n",
    "import geopandas as gpd"
   ]
  },
  {
   "cell_type": "code",
   "execution_count": 2,
   "id": "8c4e0f39-af37-4f22-b869-192ea857ceac",
   "metadata": {},
   "outputs": [
    {
     "ename": "NotImplementedError",
     "evalue": "A polygon does not itself provide the array interface. Its rings do.",
     "output_type": "error",
     "traceback": [
      "\u001b[1;31m---------------------------------------------------------------------------\u001b[0m",
      "\u001b[1;31mNotImplementedError\u001b[0m                       Traceback (most recent call last)",
      "Input \u001b[1;32mIn [2]\u001b[0m, in \u001b[0;36m<cell line: 2>\u001b[1;34m()\u001b[0m\n\u001b[0;32m      1\u001b[0m xarray\u001b[38;5;241m.\u001b[39mopen_dataset(\u001b[38;5;124m\"\u001b[39m\u001b[38;5;124m./netcdf_data/pr_anntot_RCP85.nc\u001b[39m\u001b[38;5;124m\"\u001b[39m)\n\u001b[1;32m----> 2\u001b[0m \u001b[43mgpd\u001b[49m\u001b[38;5;241;43m.\u001b[39;49m\u001b[43mread_file\u001b[49m\u001b[43m(\u001b[49m\u001b[38;5;124;43m\"\u001b[39;49m\u001b[38;5;124;43m./shapefiles/CA_Bulletin_118_Groundwater_Basins.shp\u001b[39;49m\u001b[38;5;124;43m\"\u001b[39;49m\u001b[43m)\u001b[49m\n",
      "File \u001b[1;32m~\\anaconda3\\envs\\ut-ucs\\lib\\site-packages\\geopandas\\io\\file.py:203\u001b[0m, in \u001b[0;36m_read_file\u001b[1;34m(filename, bbox, mask, rows, **kwargs)\u001b[0m\n\u001b[0;32m    198\u001b[0m \u001b[38;5;28;01mif\u001b[39;00m kwargs\u001b[38;5;241m.\u001b[39mget(\u001b[38;5;124m\"\u001b[39m\u001b[38;5;124mignore_geometry\u001b[39m\u001b[38;5;124m\"\u001b[39m, \u001b[38;5;28;01mFalse\u001b[39;00m):\n\u001b[0;32m    199\u001b[0m     \u001b[38;5;28;01mreturn\u001b[39;00m pd\u001b[38;5;241m.\u001b[39mDataFrame(\n\u001b[0;32m    200\u001b[0m         [record[\u001b[38;5;124m\"\u001b[39m\u001b[38;5;124mproperties\u001b[39m\u001b[38;5;124m\"\u001b[39m] \u001b[38;5;28;01mfor\u001b[39;00m record \u001b[38;5;129;01min\u001b[39;00m f_filt], columns\u001b[38;5;241m=\u001b[39mcolumns\n\u001b[0;32m    201\u001b[0m     )\n\u001b[1;32m--> 203\u001b[0m \u001b[38;5;28;01mreturn\u001b[39;00m \u001b[43mGeoDataFrame\u001b[49m\u001b[38;5;241;43m.\u001b[39;49m\u001b[43mfrom_features\u001b[49m\u001b[43m(\u001b[49m\n\u001b[0;32m    204\u001b[0m \u001b[43m    \u001b[49m\u001b[43mf_filt\u001b[49m\u001b[43m,\u001b[49m\u001b[43m \u001b[49m\u001b[43mcrs\u001b[49m\u001b[38;5;241;43m=\u001b[39;49m\u001b[43mcrs\u001b[49m\u001b[43m,\u001b[49m\u001b[43m \u001b[49m\u001b[43mcolumns\u001b[49m\u001b[38;5;241;43m=\u001b[39;49m\u001b[43mcolumns\u001b[49m\u001b[43m \u001b[49m\u001b[38;5;241;43m+\u001b[39;49m\u001b[43m \u001b[49m\u001b[43m[\u001b[49m\u001b[38;5;124;43m\"\u001b[39;49m\u001b[38;5;124;43mgeometry\u001b[39;49m\u001b[38;5;124;43m\"\u001b[39;49m\u001b[43m]\u001b[49m\n\u001b[0;32m    205\u001b[0m \u001b[43m\u001b[49m\u001b[43m)\u001b[49m\n",
      "File \u001b[1;32m~\\anaconda3\\envs\\ut-ucs\\lib\\site-packages\\geopandas\\geodataframe.py:587\u001b[0m, in \u001b[0;36mGeoDataFrame.from_features\u001b[1;34m(cls, features, crs, columns)\u001b[0m\n\u001b[0;32m    585\u001b[0m     row\u001b[38;5;241m.\u001b[39mupdate(feature[\u001b[38;5;124m\"\u001b[39m\u001b[38;5;124mproperties\u001b[39m\u001b[38;5;124m\"\u001b[39m])\n\u001b[0;32m    586\u001b[0m     rows\u001b[38;5;241m.\u001b[39mappend(row)\n\u001b[1;32m--> 587\u001b[0m \u001b[38;5;28;01mreturn\u001b[39;00m \u001b[43mGeoDataFrame\u001b[49m\u001b[43m(\u001b[49m\u001b[43mrows\u001b[49m\u001b[43m,\u001b[49m\u001b[43m \u001b[49m\u001b[43mcolumns\u001b[49m\u001b[38;5;241;43m=\u001b[39;49m\u001b[43mcolumns\u001b[49m\u001b[43m,\u001b[49m\u001b[43m \u001b[49m\u001b[43mcrs\u001b[49m\u001b[38;5;241;43m=\u001b[39;49m\u001b[43mcrs\u001b[49m\u001b[43m)\u001b[49m\n",
      "File \u001b[1;32m~\\anaconda3\\envs\\ut-ucs\\lib\\site-packages\\geopandas\\geodataframe.py:138\u001b[0m, in \u001b[0;36mGeoDataFrame.__init__\u001b[1;34m(self, geometry, crs, *args, **kwargs)\u001b[0m\n\u001b[0;32m    127\u001b[0m         warnings\u001b[38;5;241m.\u001b[39mwarn(\n\u001b[0;32m    128\u001b[0m             \u001b[38;5;124m\"\u001b[39m\u001b[38;5;124mCRS mismatch between CRS of the passed geometries \u001b[39m\u001b[38;5;124m\"\u001b[39m\n\u001b[0;32m    129\u001b[0m             \u001b[38;5;124m\"\u001b[39m\u001b[38;5;124mand \u001b[39m\u001b[38;5;124m'\u001b[39m\u001b[38;5;124mcrs\u001b[39m\u001b[38;5;124m'\u001b[39m\u001b[38;5;124m. Use \u001b[39m\u001b[38;5;124m'\u001b[39m\u001b[38;5;124mGeoDataFrame.set_crs(crs, \u001b[39m\u001b[38;5;124m\"\u001b[39m\n\u001b[1;32m   (...)\u001b[0m\n\u001b[0;32m    135\u001b[0m             stacklevel\u001b[38;5;241m=\u001b[39m\u001b[38;5;241m2\u001b[39m,\n\u001b[0;32m    136\u001b[0m         )\n\u001b[0;32m    137\u001b[0m         \u001b[38;5;66;03m# TODO: raise error in 0.9 or 0.10.\u001b[39;00m\n\u001b[1;32m--> 138\u001b[0m     \u001b[38;5;28mself\u001b[39m[\u001b[38;5;124m\"\u001b[39m\u001b[38;5;124mgeometry\u001b[39m\u001b[38;5;124m\"\u001b[39m] \u001b[38;5;241m=\u001b[39m \u001b[43m_ensure_geometry\u001b[49m\u001b[43m(\u001b[49m\u001b[38;5;28;43mself\u001b[39;49m\u001b[43m[\u001b[49m\u001b[38;5;124;43m\"\u001b[39;49m\u001b[38;5;124;43mgeometry\u001b[39;49m\u001b[38;5;124;43m\"\u001b[39;49m\u001b[43m]\u001b[49m\u001b[38;5;241;43m.\u001b[39;49m\u001b[43mvalues\u001b[49m\u001b[43m,\u001b[49m\u001b[43m \u001b[49m\u001b[43mcrs\u001b[49m\u001b[43m)\u001b[49m\n\u001b[0;32m    139\u001b[0m \u001b[38;5;28;01mexcept\u001b[39;00m \u001b[38;5;167;01mTypeError\u001b[39;00m:\n\u001b[0;32m    140\u001b[0m     \u001b[38;5;28;01mpass\u001b[39;00m\n",
      "File \u001b[1;32m~\\anaconda3\\envs\\ut-ucs\\lib\\site-packages\\geopandas\\geodataframe.py:43\u001b[0m, in \u001b[0;36m_ensure_geometry\u001b[1;34m(data, crs)\u001b[0m\n\u001b[0;32m     41\u001b[0m     \u001b[38;5;28;01mreturn\u001b[39;00m GeoSeries(out, index\u001b[38;5;241m=\u001b[39mdata\u001b[38;5;241m.\u001b[39mindex, name\u001b[38;5;241m=\u001b[39mdata\u001b[38;5;241m.\u001b[39mname)\n\u001b[0;32m     42\u001b[0m \u001b[38;5;28;01melse\u001b[39;00m:\n\u001b[1;32m---> 43\u001b[0m     out \u001b[38;5;241m=\u001b[39m \u001b[43mfrom_shapely\u001b[49m\u001b[43m(\u001b[49m\u001b[43mdata\u001b[49m\u001b[43m,\u001b[49m\u001b[43m \u001b[49m\u001b[43mcrs\u001b[49m\u001b[38;5;241;43m=\u001b[39;49m\u001b[43mcrs\u001b[49m\u001b[43m)\u001b[49m\n\u001b[0;32m     44\u001b[0m     \u001b[38;5;28;01mreturn\u001b[39;00m out\n",
      "File \u001b[1;32m~\\anaconda3\\envs\\ut-ucs\\lib\\site-packages\\geopandas\\array.py:168\u001b[0m, in \u001b[0;36mfrom_shapely\u001b[1;34m(data, crs)\u001b[0m\n\u001b[0;32m    152\u001b[0m \u001b[38;5;28;01mdef\u001b[39;00m \u001b[38;5;21mfrom_shapely\u001b[39m(data, crs\u001b[38;5;241m=\u001b[39m\u001b[38;5;28;01mNone\u001b[39;00m):\n\u001b[0;32m    153\u001b[0m     \u001b[38;5;124;03m\"\"\"\u001b[39;00m\n\u001b[0;32m    154\u001b[0m \u001b[38;5;124;03m    Convert a list or array of shapely objects to a GeometryArray.\u001b[39;00m\n\u001b[0;32m    155\u001b[0m \n\u001b[1;32m   (...)\u001b[0m\n\u001b[0;32m    166\u001b[0m \n\u001b[0;32m    167\u001b[0m \u001b[38;5;124;03m    \"\"\"\u001b[39;00m\n\u001b[1;32m--> 168\u001b[0m     \u001b[38;5;28;01mreturn\u001b[39;00m GeometryArray(\u001b[43mvectorized\u001b[49m\u001b[38;5;241;43m.\u001b[39;49m\u001b[43mfrom_shapely\u001b[49m\u001b[43m(\u001b[49m\u001b[43mdata\u001b[49m\u001b[43m)\u001b[49m, crs\u001b[38;5;241m=\u001b[39mcrs)\n",
      "File \u001b[1;32m~\\anaconda3\\envs\\ut-ucs\\lib\\site-packages\\geopandas\\_vectorized.py:142\u001b[0m, in \u001b[0;36mfrom_shapely\u001b[1;34m(data)\u001b[0m\n\u001b[0;32m    140\u001b[0m aout \u001b[38;5;241m=\u001b[39m np\u001b[38;5;241m.\u001b[39mempty(\u001b[38;5;28mlen\u001b[39m(data), dtype\u001b[38;5;241m=\u001b[39m\u001b[38;5;28mobject\u001b[39m)\n\u001b[0;32m    141\u001b[0m \u001b[38;5;28;01mwith\u001b[39;00m compat\u001b[38;5;241m.\u001b[39mignore_shapely2_warnings():\n\u001b[1;32m--> 142\u001b[0m     aout[:] \u001b[38;5;241m=\u001b[39m out\n\u001b[0;32m    143\u001b[0m \u001b[38;5;28;01mreturn\u001b[39;00m aout\n",
      "File \u001b[1;32m~\\anaconda3\\envs\\ut-ucs\\lib\\site-packages\\shapely\\geometry\\polygon.py:300\u001b[0m, in \u001b[0;36mPolygon.__array_interface__\u001b[1;34m(self)\u001b[0m\n\u001b[0;32m    298\u001b[0m \u001b[38;5;129m@property\u001b[39m\n\u001b[0;32m    299\u001b[0m \u001b[38;5;28;01mdef\u001b[39;00m \u001b[38;5;21m__array_interface__\u001b[39m(\u001b[38;5;28mself\u001b[39m):\n\u001b[1;32m--> 300\u001b[0m     \u001b[38;5;28;01mraise\u001b[39;00m \u001b[38;5;167;01mNotImplementedError\u001b[39;00m(\n\u001b[0;32m    301\u001b[0m     \u001b[38;5;124m\"\u001b[39m\u001b[38;5;124mA polygon does not itself provide the array interface. Its rings do.\u001b[39m\u001b[38;5;124m\"\u001b[39m)\n",
      "\u001b[1;31mNotImplementedError\u001b[0m: A polygon does not itself provide the array interface. Its rings do."
     ]
    }
   ],
   "source": [
    "xarray.open_dataset(\"./netcdf_data/pr_anntot_RCP85.nc\")\n",
    "gpd.read_file(\"./shapefiles/CA_Bulletin_118_Groundwater_Basins.shp\")"
   ]
  },
  {
   "cell_type": "code",
   "execution_count": null,
   "id": "3c405c0a-6789-427e-8603-067e08c8c645",
   "metadata": {},
   "outputs": [],
   "source": [
    "from rasterio import features\n",
    "from affine import Affine\n",
    "\n",
    "def transform_from_latlon(lat, lon):\n",
    "    \"\"\" input 1D array of lat / lon and output an Affine transformation\n",
    "    \"\"\"\n",
    "    lat = np.asarray(lat)\n",
    "    lon = np.asarray(lon)\n",
    "    trans = Affine.translation(lon[0], lat[0])\n",
    "    scale = Affine.scale(lon[1] - lon[0], lat[1] - lat[0])\n",
    "    return trans * scale\n",
    "\n",
    "def rasterize(shapes, coords, latitude='latitude', longitude='longitude',\n",
    "              fill=np.nan, **kwargs):\n",
    "    \"\"\"Rasterize a list of (geometry, fill_value) tuples onto the given\n",
    "    xray coordinates. This only works for 1d latitude and longitude\n",
    "    arrays.\n",
    "\n",
    "    usage:\n",
    "    -----\n",
    "    1. read shapefile to geopandas.GeoDataFrame\n",
    "          `states = gpd.read_file(shp_dir+shp_file)`\n",
    "    2. encode the different shapefiles that capture those lat-lons as different\n",
    "        numbers i.e. 0.0, 1.0 ... and otherwise np.nan\n",
    "          `shapes = (zip(states.geometry, range(len(states))))`\n",
    "    3. Assign this to a new coord in your original xarray.DataArray\n",
    "          `ds['states'] = rasterize(shapes, ds.coords, longitude='X', latitude='Y')`\n",
    "\n",
    "    arguments:\n",
    "    ---------\n",
    "    : **kwargs (dict): passed to `rasterio.rasterize` function\n",
    "\n",
    "    attrs:\n",
    "    -----\n",
    "    :transform (affine.Affine): how to translate from latlon to ...?\n",
    "    :raster (numpy.ndarray): use rasterio.features.rasterize fill the values\n",
    "      outside the .shp file with np.nan\n",
    "    :spatial_coords (dict): dictionary of {\"X\":xr.DataArray, \"Y\":xr.DataArray()}\n",
    "      with \"X\", \"Y\" as keys, and xr.DataArray as values\n",
    "\n",
    "    returns:\n",
    "    -------\n",
    "    :(xr.DataArray): DataArray with `values` of nan for points outside shapefile\n",
    "      and coords `Y` = latitude, 'X' = longitude.\n",
    "\n",
    "\n",
    "    \"\"\"\n",
    "    transform = transform_from_latlon(coords[latitude], coords[longitude])\n",
    "    out_shape = (len(coords[latitude]), len(coords[longitude]))\n",
    "    raster = features.rasterize(shapes, out_shape=out_shape,\n",
    "                                fill=fill, transform=transform,\n",
    "                                dtype=float, **kwargs)\n",
    "    spatial_coords = {latitude: coords[latitude], longitude: coords[longitude]}\n",
    "    return xr.DataArray(raster, coords=spatial_coords, dims=(latitude, longitude))\n",
    "\n",
    "def add_shape_coord_from_data_array(xr_da, shp_path, coord_name):\n",
    "    \"\"\" Create a new coord for the xr_da indicating whether or not it \n",
    "         is inside the shapefile\n",
    "\n",
    "        Creates a new coord - \"coord_name\" which will have integer values\n",
    "         used to subset xr_da for plotting / analysis/\n",
    "\n",
    "        Usage:\n",
    "        -----\n",
    "        precip_da = add_shape_coord_from_data_array(precip_da, \"awash.shp\", \"awash\")\n",
    "        awash_da = precip_da.where(precip_da.awash==0, other=np.nan) \n",
    "    \"\"\"\n",
    "    # 1. read in shapefile\n",
    "    shp_gpd = gpd.read_file(shp_path)\n",
    "\n",
    "    # 2. create a list of tuples (shapely.geometry, id)\n",
    "    #    this allows for many different polygons within a .shp file (e.g. States of US)\n",
    "    shapes = [(shape, n) for n, shape in enumerate(shp_gpd.geometry)]\n",
    "\n",
    "    # 3. create a new coord in the xr_da which will be set to the id in `shapes`\n",
    "    xr_da[coord_name] = rasterize(shapes, xr_da.coords, \n",
    "                               longitude='longitude', latitude='latitude')\n",
    "\n",
    "    return xr_da"
   ]
  }
 ],
 "metadata": {
  "kernelspec": {
   "display_name": "Python 3",
   "language": "python",
   "name": "python3"
  },
  "language_info": {
   "codemirror_mode": {
    "name": "ipython",
    "version": 3
   },
   "file_extension": ".py",
   "mimetype": "text/x-python",
   "name": "python",
   "nbconvert_exporter": "python",
   "pygments_lexer": "ipython3",
   "version": "3.8.8"
  }
 },
 "nbformat": 4,
 "nbformat_minor": 5
}
